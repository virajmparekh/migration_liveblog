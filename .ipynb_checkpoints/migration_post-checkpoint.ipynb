{
 "cells": [
  {
   "cell_type": "markdown",
   "metadata": {},
   "source": [
    "# Live Blogging Through a Migration"
   ]
  },
  {
   "cell_type": "markdown",
   "metadata": {},
   "source": [
    "One of the core modules is our clickstream module. It empowers marketers and product mangers to know their target audience and how they're interacting with a site or app.\n",
    "\n",
    "Under the hood, a huge part of our clickstream module is powered by Apache Airflow. To load analytics.js data to Redshift, data is stored in S3 as an intermediary, and then pushed to Redshift through copy commands. This entire loading process is powered by Mesos under the hood and can scale up to handle almost any load."
   ]
  },
  {
   "cell_type": "markdown",
   "metadata": {},
   "source": []
  },
  {
   "cell_type": "markdown",
   "metadata": {},
   "source": [
    "![title](img/9pm_migration.png)"
   ]
  },
  {
   "cell_type": "markdown",
   "metadata": {},
   "source": [
    "First, some slack introduction:\n"
   ]
  },
  {
   "cell_type": "markdown",
   "metadata": {},
   "source": [
    "\n",
    "!['title'](img/taylor.png)\n",
    "\n",
    "@tededminson - our resident Pythonista"
   ]
  },
  {
   "cell_type": "markdown",
   "metadata": {},
   "source": [
    "!['title'](img/cj.png)\n",
    "@CJ - Astronomer's dev team's free safety"
   ]
  },
  {
   "cell_type": "markdown",
   "metadata": {},
   "source": [
    "!['title'](img/ry.png)\n",
    "And if you didn't guess -  CEO @rywalker"
   ]
  },
  {
   "cell_type": "markdown",
   "metadata": {},
   "source": [
    "!['title'](img/cj_isnt_late.png)\n",
    "People forget they called him \"Mr. Punctual\" in high school.\n",
    "\n",
    "\n",
    "And off we go..."
   ]
  },
  {
   "cell_type": "markdown",
   "metadata": {},
   "source": [
    "!['title'](img/alert_canary_pray.png)\n",
    "Taylor paused all DAGs and turned off Canary - one of our internal Airflow monitoring tools. Canary dropps an alert in a slack channel when a DAG fails.\n",
    "\n",
    "Bah followed by a prayer emojis...oh boy."
   ]
  },
  {
   "cell_type": "markdown",
   "metadata": {},
   "source": [
    "!['title'](img/42_logs.png)\n",
    "!['title'](img/daredevil.png)\n",
    "!['title'](img/fuck_it.png)\n",
    "!['title'](img/accidentally_ddos.png)\n",
    "!['title'](img/hefty.png)\n",
    "!['title'](img/alert_canary_pray.png)\n",
    "!['title'](img/logs_logs_logs.png)\n",
    "!['title'](img/another_bump.png)\n",
    "!['title'](img/missing_env.png)\n",
    "!['title'](img/ceo_confirms.png)\n",
    "!['title'](img/move_fast_and_break_things.png)\n",
    "!['title'](img/cj_all_the_way.png)\n",
    "!['title'](img/popcorn.png)\n",
    "!['title'](img/cj_isnt_late.png)\n",
    "!['title'](img/Screenshot from 2018-01-30 11-34-44.png)\n",
    "!['title'](img/cj.png)\n",
    "!['title'](img/taylor.png)\n",
    "!['title'](img/cynical_cj.png)\n",
    "!['title'](img/uh_oh.png)\n",
    "!['title'](img/dag_caught_up.png)\n",
    "!['title'](img/wtf_is_this.png)\n",
    "!['title'](img/dags_caught_up.png)\n"
   ]
  },
  {
   "cell_type": "code",
   "execution_count": null,
   "metadata": {
    "collapsed": true
   },
   "outputs": [],
   "source": []
  }
 ],
 "metadata": {
  "kernelspec": {
   "display_name": "Python 3",
   "language": "python",
   "name": "python3"
  },
  "language_info": {
   "codemirror_mode": {
    "name": "ipython",
    "version": 3
   },
   "file_extension": ".py",
   "mimetype": "text/x-python",
   "name": "python",
   "nbconvert_exporter": "python",
   "pygments_lexer": "ipython3",
   "version": "3.6.3"
  }
 },
 "nbformat": 4,
 "nbformat_minor": 2
}
