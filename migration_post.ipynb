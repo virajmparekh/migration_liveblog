{
 "cells": [
  {
   "cell_type": "markdown",
   "metadata": {},
   "source": [
    "# Live Blogging Through a Migration"
   ]
  },
  {
   "cell_type": "markdown",
   "metadata": {},
   "source": [
    "One of the core modules is our clickstream module. It empowers marketers and product mangers to know their target audience and how they're interacting with a site or app.\n",
    "\n",
    "Under the hood, a huge part of our clickstream module is powered by Apache Airflow. Analytics.js events get sent to S3 and loaded into Redshift by dynamically generated DAGs.\n",
    "\n",
    "Our _Airflow Clickstream_ powers our Redshift loader DAGS for clickstream events. \n",
    "\n",
    "\n",
    "Recently, we pushed a pretty big update to our Airflow Clickstream. You'll see some screenshots of our engineering Slack channel through deployment night."
   ]
  },
  {
   "cell_type": "markdown",
   "metadata": {},
   "source": [
    "![title](img/9pm_migration.png)"
   ]
  },
  {
   "cell_type": "markdown",
   "metadata": {},
   "source": [
    "### First, some intros:\n",
    "\n",
    "!['title'](img/intro.gif)\n"
   ]
  },
  {
   "cell_type": "markdown",
   "metadata": {},
   "source": [
    "@kicksopenminds  - our resident Pythonista\n",
    "!['title'](img/taylor.png)\n",
    "\n"
   ]
  },
  {
   "cell_type": "markdown",
   "metadata": {},
   "source": [
    "@CJ - Astronomer's dev team's free safety\n",
    "!['title'](img/cj.png)\n"
   ]
  },
  {
   "cell_type": "markdown",
   "metadata": {},
   "source": [
    "CEO @rywalker, noted lover of live blogs.\n",
    "\n",
    "!['title'](img/ry.png)\n"
   ]
  },
  {
   "cell_type": "markdown",
   "metadata": {},
   "source": [
    "!['title'](img/joker_here_it_goes.gif)\n",
    "\n",
    "\n",
    "\n",
    "!['title'](img/cj_isnt_late.png)\n",
    "#### People forget they called him \"Mr. Punctual\" in high school.\n"
   ]
  },
  {
   "cell_type": "markdown",
   "metadata": {},
   "source": [
    "!['title'](img/alert_canary_pray.png)\n",
    "We rolled out the new DAG version to our own Astronomer DAGs first for our website, then for our app.\n",
    "\n",
    "Bah followed by a prayer emoji...oh boy."
   ]
  },
  {
   "cell_type": "markdown",
   "metadata": {},
   "source": [
    "!['title'](img/bah_elaborate.png)"
   ]
  },
  {
   "cell_type": "markdown",
   "metadata": {},
   "source": [
    "##### First obstacle (and amibigious bah) averted!\n",
    "\n",
    "Houston is our GraphQL API - it acts as ground control between all the different services that run our platform.\n",
    "You can read more about why we chose to write it in GraphQL [here](https://www.astronomer.io/blog/3-reasons-why-astronomer-is-betting-on-graphql/)."
   ]
  },
  {
   "cell_type": "markdown",
   "metadata": {},
   "source": [
    "!['title'](img/popcorn.png)\n",
    "Now the spectators start arriving!"
   ]
  },
  {
   "cell_type": "markdown",
   "metadata": {},
   "source": [
    "##### 20 minutes in, something is still off\n",
    "!['title'](img/hefty.png)\n"
   ]
  },
  {
   "cell_type": "markdown",
   "metadata": {},
   "source": [
    "!['title'](img/fuck_it_hefty.png)\n",
    "Another API explorer never hurt anyone"
   ]
  },
  {
   "cell_type": "markdown",
   "metadata": {},
   "source": [
    "\n",
    "!['title'](img/uh_oh.png)\n",
    "### Airflow logs everything to a database, so remember to check your SQL!"
   ]
  },
  {
   "cell_type": "markdown",
   "metadata": {},
   "source": [
    "Most common phrase in the Astronomer Slack- \"wtf Airflow?\"\n",
    "!['title'](img/wtf_is_this.png)\n",
    "#### But it's all good because we love Airflow anyways, but it certainly has its quirks..."
   ]
  },
  {
   "cell_type": "markdown",
   "metadata": {},
   "source": [
    "!['title'](img/front_end_date.png)\n"
   ]
  },
  {
   "cell_type": "markdown",
   "metadata": {},
   "source": [
    "10:40 - morale was high.\n",
    "!['title'](img/channel_change.png)\n",
    "\n",
    "\n",
    "!['title'](img/taylor_dag_caught.png)\n",
    "Those are our internal DAGs that control how we handle reporting and inbound marketing.\n",
    "\n",
    "Over the next half hour, some of our other DAGs caught up successfully as we re-enabled them."
   ]
  },
  {
   "cell_type": "markdown",
   "metadata": {},
   "source": [
    "11:34 - a daredevil shows up:"
   ]
  },
  {
   "cell_type": "markdown",
   "metadata": {},
   "source": [
    "!['title'](img/daredevil.png)"
   ]
  },
  {
   "cell_type": "markdown",
   "metadata": {},
   "source": [
    "##### Note to selves: Make sure you tell inbound prospects on Intercom that performance may be affected when migrating."
   ]
  },
  {
   "cell_type": "markdown",
   "metadata": {},
   "source": [
    "!['title'](img/cynical_cj.png)\n",
    "### Fun Fact: They also called CJ \"Mr Cynical\" in high school."
   ]
  },
  {
   "cell_type": "markdown",
   "metadata": {},
   "source": [
    "!['title'](img/move_fast_and_break_things.png)\n",
    "#startups\n",
    "\n"
   ]
  },
  {
   "cell_type": "markdown",
   "metadata": {},
   "source": [
    "!['title'](img/logs_logs_logs.png)\n",
    "A wild @andscooper appears!"
   ]
  },
  {
   "cell_type": "markdown",
   "metadata": {},
   "source": [
    "!['title'](img/ceo_confirms.png)\n",
    "Executive confirmation always help.\n",
    "!['title'](img/incoming.gif)"
   ]
  },
  {
   "cell_type": "markdown",
   "metadata": {},
   "source": [
    "\n",
    "After some investigation, we figured out the issue. \n",
    "\n",
    "!['title'](img/accidentally_ddos.png)\n",
    "\n",
    "\n",
    "As the scheduler was catching up, it was hitting Houston with a higher than expected request volume.\n",
    "#### We were DDoSsing ourselves.\n",
    "!['title'](img/weebay.gif)\n"
   ]
  },
  {
   "cell_type": "markdown",
   "metadata": {},
   "source": [
    "!['title'](img/another_bump.png)\n"
   ]
  },
  {
   "cell_type": "markdown",
   "metadata": {},
   "source": [
    "### Added some caching magic (added server-side caching on the GraphQL API endpoint), bumped the docker tag, and tried again."
   ]
  },
  {
   "cell_type": "markdown",
   "metadata": {},
   "source": [
    "!['title'](img/dags_caught_up.png)\n"
   ]
  },
  {
   "cell_type": "markdown",
   "metadata": {},
   "source": [
    "##### Some last touch-ups\n",
    "\n",
    "!['title'](img/cj_all_the_way.png)\n"
   ]
  },
  {
   "cell_type": "markdown",
   "metadata": {},
   "source": [
    "!['title'](img/its_done.gif)\n"
   ]
  },
  {
   "cell_type": "code",
   "execution_count": null,
   "metadata": {
    "collapsed": true
   },
   "outputs": [],
   "source": []
  }
 ],
 "metadata": {
  "kernelspec": {
   "display_name": "Python 3",
   "language": "python",
   "name": "python3"
  },
  "language_info": {
   "codemirror_mode": {
    "name": "ipython",
    "version": 3
   },
   "file_extension": ".py",
   "mimetype": "text/x-python",
   "name": "python",
   "nbconvert_exporter": "python",
   "pygments_lexer": "ipython3",
   "version": "3.6.3"
  }
 },
 "nbformat": 4,
 "nbformat_minor": 2
}
